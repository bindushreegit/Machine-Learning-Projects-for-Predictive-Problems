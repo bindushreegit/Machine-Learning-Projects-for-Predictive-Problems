{
 "cells": [
  {
   "cell_type": "markdown",
   "metadata": {},
   "source": [
    "### Homework 3\n",
    "\n",
    "![image info](https://www.mdpi.com/sensors/sensors-17-01951/article_deploy/html/images/sensors-17-01951-g003.png)\n",
    "\n",
    "\n",
    ">SqueezeNet: AlexNet-level accuracy with 50x fewer parameters and <0.5MB model size\n",
    "(https://arxiv.org/abs/1602.07360)\n",
    "\n",
    "In this assigment you're going to use the pretrained network SqueezeNetv1.2 (~ 5 Mb) "
   ]
  },
  {
   "cell_type": "markdown",
   "metadata": {},
   "source": [
    "## Task 1 (10 points):\n",
    "\n",
    "HINT1: If you have issues installing MXNet in your local computer, then use Google Colab (https://colab.research.google.com/) or Notebooks CSC (https://notebooks.csc.fi/).  \n",
    "\n",
    "HINT2: How to upload files to google colab: https://towardsdatascience.com/7-ways-to-load-external-data-into-google-colab-7ba73e7d5fc7\n",
    "\n",
    "\n",
    "##### Dataset: Dogs vs. cats\n",
    "* Number of records: 25000 images (12500 images for each class)\n",
    "* Repository URL: https://kaggle.com/competitions/dogs-vs-cats-redux-kernels-edition\n",
    "* Reference: Will Cukierski. (2016). Dogs vs. Cats Redux: Kernels Edition. Kaggle. \n",
    "\n",
    "##### Instructions and problems:\n",
    "go to https://github.com/miaow1988/SqueezeNet_v1.2 and download the 'symbol.json' and '.params' files (there is not a 'synset.txt' file! so don't use these lines, Hint: just comment these lines). \n",
    "\n",
    "* Install MXNet v1.5 (hint: create a new conda environmet with python 3, pip install mxnet==1.5.1) and follow the same steps of the lecture (part: *Using pre-trained models as feature extractors*). Find the flatten output layer and create a feature extractor (hint: It should be a numpy array of 1000 elements). Hint: The shape of the output vector is shape: (1, 1000).\n",
    "\n",
    "* Download the dogs versus cats *training folder* from https://www.kaggle.com/c/dogs-vs-cats-redux-kernels-edition/data (Remember the number of images is 12500 for each class). Alternatively you can obtain the dataset from Itslearning.\n",
    "\n",
    "* Extract the array of features for different number of images (N: 10, 100, 500, and 1000) and for each value train your favorite binary classifier (only one!!!) using GridSearch to optimize some hyperparameters. . \n",
    "\n",
    "* Report the accuracy for each value of N and the computational time during the training step."
   ]
  },
  {
   "cell_type": "markdown",
   "metadata": {},
   "source": [
    "## Task 2 (10 points):\n",
    "\n",
    "Repeat all previous steps using MobileNet V2 (https://github.com/chinakook/MobileNetV2.mxnet). How the two networks compare in terms of accuracy and running time? Hint: The shape of the output vector is shape: (1, 1280).\n",
    "\n",
    "**WARNING**: At least for N= 5000 and 12500 it can take some time in your computer, depending of your resources. The time can largely increases depending of your chosen classifier, so chose it wisely."
   ]
  },
  {
   "cell_type": "markdown",
   "metadata": {},
   "source": [
    "## Task 3 (10 points):\n",
    "\n",
    "##### Dataset: CoronaHack -Chest X-Ray-Dataset\n",
    " \n",
    "* Number of records: 5910 labeled images.\n",
    "* Repository URL: https://www.kaggle.com/datasets/praveengovi/coronahack-chest-xraydataset\n",
    "* Reference: COVID-19 Image Data Collection: Prospective Predictions Are the Future. Joseph Paul Cohen and Paul Morrison and Lan Dao and Karsten Roth and Tim Q Duong and Marzyeh Ghassemi. arXiv:2006.11988, https://github.com/ieee8023/covid-chestxray-dataset, 2020\n",
    "\n",
    "Using the best network. Train a machine learning model able to predict COVID-19 from chest X-Ray images. \n",
    "\n",
    "Present and discuss your best model."
   ]
  },
  {
   "cell_type": "code",
   "execution_count": null,
   "metadata": {},
   "outputs": [],
   "source": []
  }
 ],
 "metadata": {
  "kernelspec": {
   "display_name": "Python 3 (ipykernel)",
   "language": "python",
   "name": "python3"
  },
  "language_info": {
   "codemirror_mode": {
    "name": "ipython",
    "version": 3
   },
   "file_extension": ".py",
   "mimetype": "text/x-python",
   "name": "python",
   "nbconvert_exporter": "python",
   "pygments_lexer": "ipython3",
   "version": "3.11.5"
  }
 },
 "nbformat": 4,
 "nbformat_minor": 4
}
