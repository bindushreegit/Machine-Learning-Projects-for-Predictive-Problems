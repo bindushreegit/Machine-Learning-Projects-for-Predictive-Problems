{
 "cells": [
  {
   "cell_type": "markdown",
   "metadata": {},
   "source": [
    "# Homework 2 (Total 30 points)\n",
    "\n",
    "Remember -> submission using itslearning *deadline on 10.11.2023*"
   ]
  },
  {
   "cell_type": "markdown",
   "metadata": {},
   "source": [
    "## Task 1 (15 points)\n",
    "##### Dataset: Glass Identification \n",
    "* Number of records: 214\n",
    "* Number of features: 9 + 1 (target feature)\n",
    "* Repository URL: https://archive.ics.uci.edu/dataset/42/glass+identification\n",
    " \n",
    "##### Problems:\n",
    "a. Find the best two models by creating a complete pipeline per each model, that explores both models and parameters. Comment and compare the results.\\\n",
    "b. Benchmark the best two models in __a.__ by different cross-validation techniques (at least 3). Comment results.\\\n",
    "c. Run one AutoML calculation on the dataset. How do these results compare with the obtained in __a.__? "
   ]
  },
  {
   "cell_type": "code",
   "execution_count": null,
   "metadata": {},
   "outputs": [],
   "source": []
  },
  {
   "cell_type": "markdown",
   "metadata": {},
   "source": [
    "## Task 2 (10 points)\n",
    "##### Dataset: Connectionist Bench (Sonar, Mines vs. Rocks)\n",
    "* Number of records: 208\n",
    "* Number of features: 60 + 1 (target feature)\n",
    "* Repository URL: https://www.kaggle.com/datasets/armanakbari/connectionist-bench-sonar-mines-vs-rocks/\n",
    "\n",
    "##### Problems:\n",
    "\n",
    "* Substitute the categories M and R of the last column for integers.\\\n",
    "a. Find the best parameters on the validation set using gridsearch (min. 2 parameters) for one classification model.\\\n",
    "b. Plot a heatmap of parameters and comment your results. \\\n",
    "c. Plot a ROC curve and comment your results. \n"
   ]
  },
  {
   "cell_type": "markdown",
   "metadata": {},
   "source": [
    "## Task 3 ( 5 points)\n",
    "##### Dataset: 20 News \n",
    "* Number of records: 11314 (train) + 7532 (test)\n",
    "* Number of features: text\n",
    "* Repository URL: https://scikit-learn.org/0.19/datasets/twenty_newsgroups.html\n",
    "\n",
    "##### Problems\n",
    "* Concatenate training and testing dataset. Then, cluster 20 News Dataset into 20 clusters. Print true class vs cluster distribution. Did you manage to recover the original clusters? Describe and comment your results. "
   ]
  },
  {
   "cell_type": "code",
   "execution_count": null,
   "metadata": {},
   "outputs": [],
   "source": []
  }
 ],
 "metadata": {
  "kernelspec": {
   "display_name": "Python 3 (ipykernel)",
   "language": "python",
   "name": "python3"
  },
  "language_info": {
   "codemirror_mode": {
    "name": "ipython",
    "version": 3
   },
   "file_extension": ".py",
   "mimetype": "text/x-python",
   "name": "python",
   "nbconvert_exporter": "python",
   "pygments_lexer": "ipython3",
   "version": "3.11.5"
  }
 },
 "nbformat": 4,
 "nbformat_minor": 4
}
