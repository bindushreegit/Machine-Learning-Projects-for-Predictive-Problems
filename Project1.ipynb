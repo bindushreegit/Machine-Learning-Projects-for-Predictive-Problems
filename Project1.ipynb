{
 "cells": [
  {
   "cell_type": "markdown",
   "metadata": {},
   "source": [
    "# Homework 1 (Total 30 points)\n",
    "\n",
    "Remember -> submission using itslearning *deadline on 27.10.2023*"
   ]
  },
  {
   "cell_type": "markdown",
   "metadata": {},
   "source": [
    "## Task 1 (5 points): Regression\n",
    "\n",
    "##### Dataset: Superconductivity \n",
    "* Number of records: 21263 \n",
    "* Number of features: 81 + 1 (target/output feature) \n",
    "* Repository URL: https://archive.ics.uci.edu/ml/datasets/Superconductivty+Data\n",
    "\n",
    "##### Problems\n",
    "__a.__ Train two regression models to predict the critical temperature. Report the score with the default parameters of each model.\\\n",
    "__b.__ Perform a simple manual optimization for one of the default parameters (at least 5 different values) and plot the new obtained scores as a function of the chosen parameter. Plot the coefficient magnitudes for the best obtained model."
   ]
  },
  {
   "cell_type": "markdown",
   "metadata": {},
   "source": [
    "## Task 2 (10 points): Multiclass & binary classification \n",
    "\n",
    "##### Dataset:  Drug consumption (quantified)\n",
    "* Number of records: 1885\n",
    "* Number of features: 12 + 18 (target/output features)\n",
    "* Repository URL: https://archive.ics.uci.edu/ml/datasets/Drug+consumption+%28quantified%29\n",
    "* Reference: Fehrman, Elaine, Awaz K. Muhammad, Evgeny M. Mirkes, Vincent Egan, and Alexander N. Gorban. \"The five factor model of personality and evaluation of drug consumption risk.\" In Data science: innovative developments in data analysis and clustering, pp. 231-242. Springer International Publishing, 2017.\n",
    "\n",
    "##### Problems\n",
    "__a.__ Select 2 out of 18 output features, then predict each selected feature by using a multiclass classification model. (Hint: Use numerical values to represent each class of an output feature) Report the accuracy with the default parameters of each model. (__Note__: two different multiclass classification models must be used) \\\n",
    "__b.__ Perform a simple manual optimization for one of the default parameters (at least 5 different values) for one of the previous models. Plot the obtained accuracy as a function of the chosen parameter. \\\n",
    "__c.__ Train one multiclass classification model to predict 16 output features (exclude 2 output features from a). Comment on the accuracy of predicting each feature, for all the 7 classes. \\\n",
    "__d.__ Run one binary classification model for 3 out of 18 output features. Evaluate the performance of the model with different setups as follows. \n",
    " - (class 0) the variables \"Never Used\" and \"Used in Last Decade\" and (class 1) the remaining variables.\n",
    " - (class 0) the variables \"Never Used\", \"Used in Last Decade\" and \"Used in Last Year\" and (class 1) the remaining variables.\n",
    " - (class 0) the variables \"Never Used\", \"Used in Last Decade\", \"Used in Last Year\" and \"Used in Last Month\" and (class 1) the remaining variables.\n",
    " \n",
    "__NOTE__: Comment your results, and the best setups in d."
   ]
  },
  {
   "cell_type": "markdown",
   "metadata": {},
   "source": [
    "## Task 3 (5 points): Data normalization\n",
    "\n",
    "##### Dataset: Linnerud \n",
    "* Number of recrods: 20\n",
    "* Number of features: 3 + 3 (target/output features)\n",
    "* Repository URL: https://scikit-learn.org/stable/modules/generated/sklearn.datasets.load_linnerud.html \n",
    "\n",
    "##### Problems\n",
    "__a.__ Look at features of Linnerud dataset, explore them and describe their characteristics. \\\n",
    "__b.__ Normalize these features using an appropriate method. Plot the probability density function of each feature with original and normalized data side-by-side."
   ]
  },
  {
   "cell_type": "markdown",
   "metadata": {},
   "source": [
    "## Task 4 ( 10 points):  Dimensionality reduction and clustering\n",
    "Change this into another dataset.\n",
    "\n",
    "##### Dataset: The Olivetti faces dataset\n",
    "* Number of records: 400\n",
    "* Number of features: 4096\n",
    "* Repository URL: https://scikit-learn.org/stable/datasets/real_world.html\n",
    "\n",
    "##### Problems\n",
    "__a.__ Use KernelPCA\\* for dimensionality reduction. Train a classifier at different numbers (at least 5 values) of dimensions, then check how model score changes as a function of the number of dimensions. \\  \n",
    "__b.__ Cluster the dataset into 40 clusters for at least 2 of the reduced data (done by KernelPCA in a). Print true class vs cluster distribution. Did you manage to recover the original clusters? Describe and comment your results. \\\n",
    "\n",
    "\n",
    "\\* Marukatat, S. Tutorial on PCA and approximate PCA and approximate kernel PCA. Artif Intell Rev 56, 5445–5477 (2023). https://doi.org/10.1007/s10462-022-10297-z"
   ]
  },
  {
   "cell_type": "markdown",
   "metadata": {},
   "source": []
  },
  {
   "cell_type": "code",
   "execution_count": null,
   "metadata": {},
   "outputs": [],
   "source": []
  }
 ],
 "metadata": {
  "kernelspec": {
   "display_name": "Python 3 (ipykernel)",
   "language": "python",
   "name": "python3"
  },
  "language_info": {
   "codemirror_mode": {
    "name": "ipython",
    "version": 3
   },
   "file_extension": ".py",
   "mimetype": "text/x-python",
   "name": "python",
   "nbconvert_exporter": "python",
   "pygments_lexer": "ipython3",
   "version": "3.11.5"
  }
 },
 "nbformat": 4,
 "nbformat_minor": 4
}
