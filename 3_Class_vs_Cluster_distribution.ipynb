{
 "cells": [
  {
   "cell_type": "markdown",
   "id": "f7d11f9a",
   "metadata": {},
   "source": [
    "### Task 3"
   ]
  },
  {
   "cell_type": "code",
   "execution_count": 5,
   "id": "2736691a",
   "metadata": {},
   "outputs": [],
   "source": [
    "from sklearn.datasets import fetch_20newsgroups\n",
    "from sklearn.feature_extraction.text import TfidfVectorizer\n",
    "from sklearn.cluster import KMeans\n",
    "from sklearn.metrics import confusion_matrix\n",
    "import numpy as np"
   ]
  },
  {
   "cell_type": "code",
   "execution_count": 6,
   "id": "3b95aa6c",
   "metadata": {},
   "outputs": [
    {
     "name": "stdout",
     "output_type": "stream",
     "text": [
      "True class vs Cluster distribution:\n",
      "[[136  44   0 155   0   1   4 227  14   0   1   0   0   0  27   0   0  18\n",
      "   38 134]\n",
      " [  1 600   0   0  82   0   0  18   2   2  17   0   0   1   7   1   0  14\n",
      "    0 228]\n",
      " [  0 207   0   0 554   0   0  21   6   2   2   9   0   5  16   6   0   8\n",
      "    0 149]\n",
      " [  0 479   0   0  93   0   0   9   6   3   9 191   0   2  31   1   2   4\n",
      "    0 152]\n",
      " [  0 450   0   0  12   0   0  15  20  14  11  70   0   1  26   1   0   9\n",
      "    0 334]\n",
      " [  0 650   0   0 139   3   0   2  20   2  28   0   0   1   4   2   0   0\n",
      "    0 137]\n",
      " [  0 331   0   0  21   0   0  27  14  32   3  42   0   5  14  13  10  10\n",
      "    0 453]\n",
      " [  0 149   0   0   2   0   1 499  19  31  10   0   0   0  22   1   0  41\n",
      "    0 215]\n",
      " [  0 146   0   0   0   0   0 633  11   6  18   0   0   1   9   0   0   2\n",
      "    0 170]\n",
      " [  0  79   0   0   0   0   0 141   8   7   3   0   0   1   3  14 366  19\n",
      "    0 353]\n",
      " [  0  73   0   0   0   0   0  20  54   6   4   0   0   0   6  19 715   2\n",
      "    0 100]\n",
      " [  0 146   0   0  10 538   1 151   9   8   8   0   1  25   0   0   0  25\n",
      "    0  69]\n",
      " [  0 548   0   0  19   1   0  72   8   6  29   3   0  12   2  17   0   9\n",
      "    0 258]\n",
      " [  2 138   0   0   2   0   1 550   9   5  20   0   0   2   4  14   0   2\n",
      "    0 241]\n",
      " [  0 161   0   0   1   0   0 177  10   0 198   0   0 222   2   4   0  33\n",
      "    0 179]\n",
      " [501  61   0   0   1   0   3 242  12   0   5   0   0   0   2  27   0   4\n",
      "    1 138]\n",
      " [  0  31   0   0   1   4 271 391   4   5   5   0   0   0  12   7   0 102\n",
      "    0  77]\n",
      " [  3  38 560   0   0   0   0 162   2   1   0   0   0   0  21   3   0  12\n",
      "    0 138]\n",
      " [  3  21   0   0   0   1  71 345   0  30  18   0 130   1  24   0   1  21\n",
      "    0 109]\n",
      " [125  28   0  38   0   0  53 172   6   2   0   0   0   4  22   0   0   6\n",
      "   69 103]]\n"
     ]
    }
   ],
   "source": [
    "# Load the 20 Newsgroups dataset\n",
    "newsgroups_train = fetch_20newsgroups(subset='train')\n",
    "newsgroups_test = fetch_20newsgroups(subset='test')\n",
    "\n",
    "# Concatenate training and testing datasets\n",
    "data = newsgroups_train.data + newsgroups_test.data\n",
    "labels = np.concatenate([newsgroups_train.target, newsgroups_test.target])\n",
    "\n",
    "# Vectorize the text data using TF-IDF\n",
    "vectorizer = TfidfVectorizer(stop_words='english')\n",
    "X = vectorizer.fit_transform(data)\n",
    "\n",
    "# Cluster the data into 20 clusters using KMeans\n",
    "num_clusters = 20\n",
    "kmeans = KMeans(n_clusters=num_clusters, random_state=42, n_init=10)\n",
    "cluster_labels = kmeans.fit_predict(X)\n",
    "\n",
    "# Print true class vs cluster distribution\n",
    "conf_matrix = confusion_matrix(labels, cluster_labels)\n",
    "print(\"True class vs Cluster distribution:\")\n",
    "print(conf_matrix)"
   ]
  },
  {
   "cell_type": "code",
   "execution_count": 7,
   "id": "55a17f3d",
   "metadata": {},
   "outputs": [
    {
     "name": "stdout",
     "output_type": "stream",
     "text": [
      "\n",
      "Accuracy: 32.29%\n"
     ]
    }
   ],
   "source": [
    "# original clusters \n",
    "correctly_clustered = np.max(conf_matrix, axis=0)\n",
    "accuracy = sum(correctly_clustered) / len(data)\n",
    "print(f\"\\nAccuracy: {accuracy * 100:.2f}%\")"
   ]
  },
  {
   "cell_type": "markdown",
   "id": "f8ebcd4b",
   "metadata": {},
   "source": [
    "### Summary:\n",
    "The Agglomerative Clustering algorithm applied to the 20 Newsgroups dataset resulted in an accuracy of approximately 32.29%. The confusion matrix shows the distribution of true class labels versus assigned cluster labels."
   ]
  }
 ],
 "metadata": {
  "kernelspec": {
   "display_name": "Python 3 (ipykernel)",
   "language": "python",
   "name": "python3"
  },
  "language_info": {
   "codemirror_mode": {
    "name": "ipython",
    "version": 3
   },
   "file_extension": ".py",
   "mimetype": "text/x-python",
   "name": "python",
   "nbconvert_exporter": "python",
   "pygments_lexer": "ipython3",
   "version": "3.11.5"
  }
 },
 "nbformat": 4,
 "nbformat_minor": 5
}
