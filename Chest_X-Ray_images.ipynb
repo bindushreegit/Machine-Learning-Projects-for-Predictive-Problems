{
 "cells": [
  {
   "cell_type": "markdown",
   "id": "ecf98b4a",
   "metadata": {},
   "source": [
    "### TASK-3"
   ]
  },
  {
   "cell_type": "code",
   "execution_count": 19,
   "id": "474a414e",
   "metadata": {},
   "outputs": [],
   "source": [
    "import pandas as pd\n",
    "import numpy as np\n",
    "import os\n",
    "import matplotlib.pyplot as plt\n",
    "from sklearn.model_selection import train_test_split\n",
    "from sklearn.preprocessing import LabelEncoder\n",
    "from tensorflow.keras.preprocessing.image import ImageDataGenerator\n",
    "from tensorflow.keras.models import Sequential\n",
    "from tensorflow.keras.layers import Conv2D, MaxPooling2D, Flatten, Dense, Dropout\n",
    "from tensorflow.keras.callbacks import EarlyStopping\n",
    "from sklearn.preprocessing import LabelEncoder"
   ]
  },
  {
   "cell_type": "code",
   "execution_count": 20,
   "id": "f52ca2ba",
   "metadata": {
    "scrolled": true
   },
   "outputs": [
    {
     "data": {
      "text/html": [
       "<div>\n",
       "<style scoped>\n",
       "    .dataframe tbody tr th:only-of-type {\n",
       "        vertical-align: middle;\n",
       "    }\n",
       "\n",
       "    .dataframe tbody tr th {\n",
       "        vertical-align: top;\n",
       "    }\n",
       "\n",
       "    .dataframe thead th {\n",
       "        text-align: right;\n",
       "    }\n",
       "</style>\n",
       "<table border=\"1\" class=\"dataframe\">\n",
       "  <thead>\n",
       "    <tr style=\"text-align: right;\">\n",
       "      <th></th>\n",
       "      <th>Unnamed: 0</th>\n",
       "      <th>X_ray_image_name</th>\n",
       "      <th>Label</th>\n",
       "      <th>Dataset_type</th>\n",
       "      <th>Label_2_Virus_category</th>\n",
       "      <th>Label_1_Virus_category</th>\n",
       "    </tr>\n",
       "  </thead>\n",
       "  <tbody>\n",
       "    <tr>\n",
       "      <th>5905</th>\n",
       "      <td>5928</td>\n",
       "      <td>person1637_virus_2834.jpeg</td>\n",
       "      <td>Pnemonia</td>\n",
       "      <td>TEST</td>\n",
       "      <td>NaN</td>\n",
       "      <td>Virus</td>\n",
       "    </tr>\n",
       "    <tr>\n",
       "      <th>5906</th>\n",
       "      <td>5929</td>\n",
       "      <td>person1635_virus_2831.jpeg</td>\n",
       "      <td>Pnemonia</td>\n",
       "      <td>TEST</td>\n",
       "      <td>NaN</td>\n",
       "      <td>Virus</td>\n",
       "    </tr>\n",
       "    <tr>\n",
       "      <th>5907</th>\n",
       "      <td>5930</td>\n",
       "      <td>person1634_virus_2830.jpeg</td>\n",
       "      <td>Pnemonia</td>\n",
       "      <td>TEST</td>\n",
       "      <td>NaN</td>\n",
       "      <td>Virus</td>\n",
       "    </tr>\n",
       "    <tr>\n",
       "      <th>5908</th>\n",
       "      <td>5931</td>\n",
       "      <td>person1633_virus_2829.jpeg</td>\n",
       "      <td>Pnemonia</td>\n",
       "      <td>TEST</td>\n",
       "      <td>NaN</td>\n",
       "      <td>Virus</td>\n",
       "    </tr>\n",
       "    <tr>\n",
       "      <th>5909</th>\n",
       "      <td>5932</td>\n",
       "      <td>person1632_virus_2827.jpeg</td>\n",
       "      <td>Pnemonia</td>\n",
       "      <td>TEST</td>\n",
       "      <td>NaN</td>\n",
       "      <td>Virus</td>\n",
       "    </tr>\n",
       "  </tbody>\n",
       "</table>\n",
       "</div>"
      ],
      "text/plain": [
       "      Unnamed: 0            X_ray_image_name     Label Dataset_type  \\\n",
       "5905        5928  person1637_virus_2834.jpeg  Pnemonia         TEST   \n",
       "5906        5929  person1635_virus_2831.jpeg  Pnemonia         TEST   \n",
       "5907        5930  person1634_virus_2830.jpeg  Pnemonia         TEST   \n",
       "5908        5931  person1633_virus_2829.jpeg  Pnemonia         TEST   \n",
       "5909        5932  person1632_virus_2827.jpeg  Pnemonia         TEST   \n",
       "\n",
       "     Label_2_Virus_category Label_1_Virus_category  \n",
       "5905                    NaN                  Virus  \n",
       "5906                    NaN                  Virus  \n",
       "5907                    NaN                  Virus  \n",
       "5908                    NaN                  Virus  \n",
       "5909                    NaN                  Virus  "
      ]
     },
     "execution_count": 20,
     "metadata": {},
     "output_type": "execute_result"
    }
   ],
   "source": [
    "# Load metadata\n",
    "url = 'C:\\\\Users\\\\Bindu\\\\Documents\\\\Arcada\\\\Machine Learning for Predictive\\\\Homework-3\\\\Chest_xray_Corona_Metadata.csv'\n",
    "data= pd.read_csv(url)\n",
    "data.tail()"
   ]
  },
  {
   "cell_type": "code",
   "execution_count": 24,
   "id": "17d056b5",
   "metadata": {},
   "outputs": [],
   "source": [
    "# root directory where the 'train' and 'test' folders exist\n",
    "root_dir = 'C:\\\\Users\\\\Bindu\\\\Documents\\\\Arcada\\\\Machine Learning for Predictive\\\\Homework-3\\\\Coronahack-Chest-XRay-Dataset'\n",
    "\n",
    "# image paths based on 'train' and 'test' folders\n",
    "data['image_path'] = data.apply(lambda row: os.path.join(root_dir, row['Dataset_type'], row['X_ray_image_name']), axis=1)\n",
    "\n",
    "# Split data into train and test\n",
    "train_df = data[data['Dataset_type'] == 'TRAIN']\n",
    "test_df = data[data['Dataset_type'] == 'TEST']\n",
    "label_encoder = LabelEncoder()\n",
    "train_df.loc[:,'Label'] = label_encoder.fit_transform(train_df['Label'])\n",
    "test_df.loc[:,'Label'] = label_encoder.transform(test_df['Label'])"
   ]
  },
  {
   "cell_type": "code",
   "execution_count": 22,
   "id": "1d39f20a",
   "metadata": {},
   "outputs": [
    {
     "name": "stdout",
     "output_type": "stream",
     "text": [
      "Found 5286 validated image filenames.\n",
      "Found 624 validated image filenames.\n"
     ]
    }
   ],
   "source": [
    "# Data Augmentation and Image Preprocessing\n",
    "train_datagen = ImageDataGenerator(rescale=1./255,\n",
    "                                   shear_range=0.2,\n",
    "                                   zoom_range=0.2,\n",
    "                                   horizontal_flip=True)\n",
    "\n",
    "test_datagen = ImageDataGenerator(rescale=1./255)\n",
    "\n",
    "# Define image dimensions and batch size\n",
    "img_width, img_height = 150, 150\n",
    "batch_size = 32\n",
    "\n",
    "# Generate batches of augmented data\n",
    "train_generator = train_datagen.flow_from_dataframe(dataframe=train_df,\n",
    "                                                    directory=root_dir,\n",
    "                                                    x_col='image_path',\n",
    "                                                    y_col='Label',\n",
    "                                                    class_mode='raw',\n",
    "                                                    target_size=(img_width, img_height),\n",
    "                                                    batch_size=batch_size)\n",
    "\n",
    "test_generator = test_datagen.flow_from_dataframe(dataframe=test_df,\n",
    "                                                  directory=root_dir,\n",
    "                                                  x_col='image_path',\n",
    "                                                  y_col='Label',\n",
    "                                                  class_mode='raw',\n",
    "                                                  target_size=(img_width, img_height),\n",
    "                                                  batch_size=batch_size)\n",
    "\n",
    "\n"
   ]
  },
  {
   "cell_type": "code",
   "execution_count": 23,
   "id": "6fbe4954",
   "metadata": {},
   "outputs": [
    {
     "name": "stdout",
     "output_type": "stream",
     "text": [
      "Epoch 1/10\n",
      "165/165 [==============================] - 341s 2s/step - loss: 0.4011 - accuracy: 0.8316 - val_loss: 0.5260 - val_accuracy: 0.7928\n",
      "Epoch 2/10\n",
      "165/165 [==============================] - 314s 2s/step - loss: 0.2596 - accuracy: 0.8919 - val_loss: 0.4597 - val_accuracy: 0.7895\n",
      "Epoch 3/10\n",
      "165/165 [==============================] - 320s 2s/step - loss: 0.2216 - accuracy: 0.9102 - val_loss: 0.4446 - val_accuracy: 0.8125\n",
      "Epoch 4/10\n",
      "165/165 [==============================] - 313s 2s/step - loss: 0.2004 - accuracy: 0.9220 - val_loss: 0.5020 - val_accuracy: 0.8043\n",
      "Epoch 5/10\n",
      "165/165 [==============================] - 311s 2s/step - loss: 0.1841 - accuracy: 0.9263 - val_loss: 0.3813 - val_accuracy: 0.8405\n",
      "Epoch 6/10\n",
      "165/165 [==============================] - 292s 2s/step - loss: 0.1604 - accuracy: 0.9399 - val_loss: 0.4444 - val_accuracy: 0.8470\n",
      "Epoch 7/10\n",
      "165/165 [==============================] - 233s 1s/step - loss: 0.1376 - accuracy: 0.9509 - val_loss: 0.5606 - val_accuracy: 0.7895\n",
      "Epoch 8/10\n",
      "165/165 [==============================] - 227s 1s/step - loss: 0.1434 - accuracy: 0.9452 - val_loss: 0.4609 - val_accuracy: 0.8783\n"
     ]
    },
    {
     "data": {
      "image/png": "[encoded data removed]",
      "text/plain": [
       "<Figure size 640x480 with 1 Axes>"
      ]
     },
     "metadata": {},
     "output_type": "display_data"
    },
    {
     "name": "stdout",
     "output_type": "stream",
     "text": [
      "19/19 [==============================] - 14s 718ms/step - loss: 0.4379 - accuracy: 0.8799\n",
      "Test Accuracy: 0.8799341917037964\n"
     ]
    }
   ],
   "source": [
    "# Model CNN Building\n",
    "model = Sequential([\n",
    "    Conv2D(32, (3, 3), activation='relu', input_shape=(img_width, img_height, 3)),\n",
    "    MaxPooling2D((2, 2)),\n",
    "    Conv2D(64, (3, 3), activation='relu'),\n",
    "    MaxPooling2D((2, 2)),\n",
    "    Conv2D(128, (3, 3), activation='relu'),\n",
    "    MaxPooling2D((2, 2)),\n",
    "    Flatten(),\n",
    "    Dense(512, activation='relu'),\n",
    "    Dropout(0.5),\n",
    "    Dense(1, activation='sigmoid')\n",
    "])\n",
    "\n",
    "# Compile the model\n",
    "model.compile(optimizer='adam', loss='binary_crossentropy', metrics=['accuracy'])\n",
    "\n",
    "# Training the model\n",
    "history = model.fit(train_generator,\n",
    "                    steps_per_epoch=train_generator.samples // batch_size,\n",
    "                    epochs=10,\n",
    "                    validation_data=test_generator,\n",
    "                    validation_steps=test_generator.samples // batch_size,\n",
    "                    callbacks=[EarlyStopping(patience=3)])\n",
    "\n",
    "# Plot training and validation accuracy and loss\n",
    "plt.plot(history.history['accuracy'], label='accuracy')\n",
    "plt.plot(history.history['val_accuracy'], label='val_accuracy')\n",
    "plt.plot(history.history['loss'], label='loss')\n",
    "plt.plot(history.history['val_loss'], label='val_loss')\n",
    "plt.legend()\n",
    "plt.show()\n",
    "\n",
    "# Evaluate the model\n",
    "test_loss, test_acc = model.evaluate(test_generator, steps=test_generator.samples // batch_size)\n",
    "print(f\"Test Accuracy: {test_acc}\")\n"
   ]
  },
  {
   "cell_type": "markdown",
   "id": "5ab17510",
   "metadata": {},
   "source": [
    "### Summary: \n",
    "The Convolutional Neural Network (CNN) model trained for image classification. The model was trained for 8 epochs, and its performance on the test set resulted in an accuracy of approximately 88%.\n",
    "\n",
    "The training started with a loss of 0.4011 and an accuracy of 83.16%.\n",
    "By the end of training (after 8 epochs), the loss decreased to 0.1434, and the accuracy increased to 94.52%.\n",
    "The validation accuracy varied across epochs, reaching a peak of 87.83% around the 8th epoch.\n",
    "From these results, it seems the model performed reasonably well, achieving a relatively high accuracy on the test set."
   ]
  }
 ],
 "metadata": {
  "kernelspec": {
   "display_name": "Python 3 (ipykernel)",
   "language": "python",
   "name": "python3"
  },
  "language_info": {
   "codemirror_mode": {
    "name": "ipython",
    "version": 3
   },
   "file_extension": ".py",
   "mimetype": "text/x-python",
   "name": "python",
   "nbconvert_exporter": "python",
   "pygments_lexer": "ipython3",
   "version": "3.11.5"
  }
 },
 "nbformat": 4,
 "nbformat_minor": 5
}
